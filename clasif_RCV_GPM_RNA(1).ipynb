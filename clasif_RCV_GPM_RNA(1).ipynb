{
  "cells": [
    {
      "cell_type": "markdown",
      "metadata": {
        "id": "view-in-github",
        "colab_type": "text"
      },
      "source": [
        "<a href=\"https://colab.research.google.com/github/cristhian032002/Actividades-seminario/blob/main/clasif_RCV_GPM_RNA(1).ipynb\" target=\"_parent\"><img src=\"https://colab.research.google.com/assets/colab-badge.svg\" alt=\"Open In Colab\"/></a>"
      ]
    },
    {
      "cell_type": "markdown",
      "id": "inappropriate-farmer",
      "metadata": {
        "id": "inappropriate-farmer"
      },
      "source": [
        "# Redes Neuronales Artificiales Para Predecir Riesgo Cardiovascular\n",
        "\n",
        "**Autor: Elias Buitrago B.**\\\n",
        "Bogotá, Colombia \\\n",
        "Actualizado: 18 oct 2023 \\\n",
        "_Nota: Código ajustado para su ejecución en Google Colaboratory_\\\n",
        "Verificado con las siguientes versiones: Python 3.10.12, Tensorflow: 2.13.0, Keras: 2.13.1_"
      ]
    },
    {
      "cell_type": "markdown",
      "id": "adapted-handle",
      "metadata": {
        "id": "adapted-handle"
      },
      "source": [
        "## Cargar librerías\n",
        "The Python programming language relies on specialized code libraries for various functionalities. For example, if we want to graph we can invoke (call, load) a specialized library such as matplotlib. This packaging of code with concrete functions and the like is similar to what R software does with packages. Next, the libraries required for the correct training of multilayer perceptron neural networks are imported. The specialized libraries specifically for training neural networks to predict cardiovascular risk are TensorFlow (_version 2.13.0_) and Keras (_version 2.13.1_).\n",
        "\n",
        "<!-- El lenguaje de programación python se apoya en librerías de código especializadas en diversas funcionalidades. Por ejemplo, si queremos graficar podemos invocar (llamar, cargar) una librerías especilizada como matplotlib. ESte empaquetamiento de código con funciones concretas y similares, se asemeja a los que hace el software R con los paquetes. A continuación, se importan las librerías requeridas para el correcto entrenamiento de redes neuronales del tipo perceptrón multicapa. Las librerías especializadas, específicamente para entrenar las redes neuronales para predecri riesgo cardiovascular son las siguientes TensorFlow (_versión 2.13.0_) y Keras (_versión 2.13.1_). -->"
      ]
    },
    {
      "cell_type": "code",
      "execution_count": null,
      "id": "cardiovascular-satin",
      "metadata": {
        "id": "cardiovascular-satin"
      },
      "outputs": [],
      "source": [
        "# Librerías básicas de Python\n",
        "import numpy as np\n",
        "import pandas as pd\n",
        "import matplotlib.pyplot as plt\n",
        "\n",
        "# Librería para calcular tiempo de ejecución\n",
        "from time import process_time\n",
        "\n",
        "# Librerías para particionar conjunto de datos\n",
        "from sklearn.preprocessing import StandardScaler\n",
        "from sklearn.model_selection import train_test_split as split\n",
        "\n",
        "# Funciones requeridas de la librerías que permite entrenar redes neuronales\n",
        "# artificiales\n",
        "from tensorflow.keras import models\n",
        "from tensorflow.keras.layers import Dense\n",
        "from tensorflow.keras import optimizers\n",
        "from tensorflow.keras import utils as np_utils\n",
        "\n",
        "# Funciones requeridas de la librería para evaluar desempeño de la RNA\n",
        "from sklearn.metrics import roc_curve, roc_auc_score\n",
        "from sklearn.metrics import classification_report, confusion_matrix"
      ]
    },
    {
      "cell_type": "markdown",
      "source": [
        "## Verificación de versiones de librerías\n",
        "De manera rutinaria se recomienda hacer la verificación de la versión actual de las versiones de Python, TensorFlow y Keras. Por lo tanto a continuación se mnuestran las lineas de código para verificar las versiones de dichas librerías, incluyendo la versión del sistema operativo. Google Colaboratory se ejecuta sobre un sistema operatio Linux distribución Ubuntu,"
      ],
      "metadata": {
        "id": "foKFuPu-R0To"
      },
      "id": "foKFuPu-R0To"
    },
    {
      "cell_type": "code",
      "source": [
        "import tensorflow\n",
        "import keras\n",
        "print(\"El sistema operativo base de Google Colaboratory es: \")\n",
        "!lsb_release -a\n",
        "print(\"La versión actual de Python es: \")\n",
        "!python --version\n",
        "print(\"La versión instalada de Tensorflow es: \" + tensorflow.__version__)\n",
        "print(\"La versión instalada de Keras es: \" + keras.__version__)"
      ],
      "metadata": {
        "colab": {
          "base_uri": "https://localhost:8080/"
        },
        "id": "iJ-XtMkY7Y4h",
        "outputId": "93f2bfd6-b091-4fc5-c56d-4d7e8a32ef0a"
      },
      "id": "iJ-XtMkY7Y4h",
      "execution_count": null,
      "outputs": [
        {
          "output_type": "stream",
          "name": "stdout",
          "text": [
            "El sistema operativo base de Google Colaboratory es: \n",
            "No LSB modules are available.\n",
            "Distributor ID:\tUbuntu\n",
            "Description:\tUbuntu 22.04.3 LTS\n",
            "Release:\t22.04\n",
            "Codename:\tjammy\n",
            "La versión actual de Python es: \n",
            "Python 3.10.12\n",
            "La versión instalada de Tensorflow es: 2.14.0\n",
            "La versión instalada de Keras es: 2.14.0\n"
          ]
        }
      ]
    },
    {
      "cell_type": "markdown",
      "id": "nasty-transparency",
      "metadata": {
        "id": "nasty-transparency"
      },
      "source": [
        "## Cargar datos\n",
        "En el contexto del presente taller, los datos que se utilizan para el entrenamiento, evaluación y validación se almacenan en un directorio de Google Drive del mismo usuario actual de Google Colaboratory. Para acceder a los datos solo se requiere ejecutar la primera celda de código de esta sección, luego brindar los permisos de acceo respectivo y, finalmente, cambiar la ruta de acceso al archivo de los datos."
      ]
    },
    {
      "cell_type": "code",
      "source": [
        "from google.colab import drive\n",
        "drive.mount('/content/drive')"
      ],
      "metadata": {
        "id": "9LuuavIPie6Z",
        "colab": {
          "base_uri": "https://localhost:8080/"
        },
        "outputId": "8505e5b8-61ea-43c9-ef56-178676574b2f"
      },
      "id": "9LuuavIPie6Z",
      "execution_count": null,
      "outputs": [
        {
          "output_type": "stream",
          "name": "stdout",
          "text": [
            "Mounted at /content/drive\n"
          ]
        }
      ]
    },
    {
      "cell_type": "code",
      "execution_count": null,
      "id": "applicable-darkness",
      "metadata": {
        "id": "applicable-darkness"
      },
      "outputs": [],
      "source": [
        "data = pd.read_excel(\"/content/drive/MyDrive/data/pacientes_rcv_limpio.xlsx\")\n",
        "target = data.loc[:, 'Clasificación de RCV Global'].astype(int)\n",
        "data = data.drop(['Clasificación de RCV Global'], axis=1)\n",
        "target=pd.Categorical(target).codes"
      ]
    },
    {
      "cell_type": "code",
      "source": [
        "print(data.shape)\n",
        "data.head()"
      ],
      "metadata": {
        "id": "-NPpefeF2L9D",
        "colab": {
          "base_uri": "https://localhost:8080/",
          "height": 342
        },
        "outputId": "b11ddb1f-11f0-400b-c0dc-61c055908a2a"
      },
      "id": "-NPpefeF2L9D",
      "execution_count": null,
      "outputs": [
        {
          "output_type": "stream",
          "name": "stdout",
          "text": [
            "(3000, 35)\n"
          ]
        },
        {
          "output_type": "execute_result",
          "data": {
            "text/plain": [
              "   Edad (años)  Genero  Zona  Fumador Activo  ¿Diabetes?  \\\n",
              "0           82       2     1               1           1   \n",
              "1           83       2     1               1           1   \n",
              "2           54       2     1               1           1   \n",
              "3           68       2     1               1           1   \n",
              "4           68       2     1               1           2   \n",
              "\n",
              "   Hipertensión Arterial Sistemica  HTA + DM  \\\n",
              "0                                2         1   \n",
              "1                                2         1   \n",
              "2                                1         1   \n",
              "3                                1         1   \n",
              "4                                1         1   \n",
              "\n",
              "   Clasificacion de Diabetes o del ultimo estado de Glicemia  \\\n",
              "0                                                0.0           \n",
              "1                                                0.0           \n",
              "2                                                0.0           \n",
              "3                                                0.0           \n",
              "4                                                2.0           \n",
              "\n",
              "   Complicaciones  y Lesiones en Organo Blanco  \\\n",
              "0                                            1   \n",
              "1                                            1   \n",
              "2                                            1   \n",
              "3                                            1   \n",
              "4                                            1   \n",
              "\n",
              "   Antecedentes_Fliar_Enfermedad_Coronaria  ...  Creatinina  \\\n",
              "0                                        1  ...       132.0   \n",
              "1                                        1  ...        97.0   \n",
              "2                                        1  ...        97.0   \n",
              "3                                        1  ...        86.0   \n",
              "4                                        1  ...        71.0   \n",
              "\n",
              "   Factor de corrección de la formula  Proteinuria  \\\n",
              "0                                  85          0.0   \n",
              "1                                  85          0.0   \n",
              "2                                  85          0.0   \n",
              "3                                  85          0.0   \n",
              "4                                  85          0.0   \n",
              "\n",
              "   Calculo de  TFG corregida (Cockcroft-Gault)  Estadio IRC  \\\n",
              "0                                    37.348485          3.0   \n",
              "1                                    33.000000          3.0   \n",
              "2                                    51.000000          3.0   \n",
              "3                                    53.372093          3.0   \n",
              "4                                    68.239437          2.0   \n",
              "\n",
              "   Remisiones Especialidad  Farmacos  Antihipertensivos  Estatina  \\\n",
              "0                      1.0                          1.0         0   \n",
              "1                      1.0                          2.0         0   \n",
              "2                      1.0                          3.0         0   \n",
              "3                      1.0                          1.0         0   \n",
              "4                      1.0                          2.0         0   \n",
              "\n",
              "   Antidiabeticos  Adherencia al tratamiento  \n",
              "0             2.0                        1.0  \n",
              "1             0.0                        1.0  \n",
              "2             0.0                        1.0  \n",
              "3             0.0                        1.0  \n",
              "4             3.0                        1.0  \n",
              "\n",
              "[5 rows x 35 columns]"
            ],
            "text/html": [
              "\n",
              "  <div id=\"df-6cf1d3d3-560a-4b70-b85f-8e86fb691b1f\" class=\"colab-df-container\">\n",
              "    <div>\n",
              "<style scoped>\n",
              "    .dataframe tbody tr th:only-of-type {\n",
              "        vertical-align: middle;\n",
              "    }\n",
              "\n",
              "    .dataframe tbody tr th {\n",
              "        vertical-align: top;\n",
              "    }\n",
              "\n",
              "    .dataframe thead th {\n",
              "        text-align: right;\n",
              "    }\n",
              "</style>\n",
              "<table border=\"1\" class=\"dataframe\">\n",
              "  <thead>\n",
              "    <tr style=\"text-align: right;\">\n",
              "      <th></th>\n",
              "      <th>Edad (años)</th>\n",
              "      <th>Genero</th>\n",
              "      <th>Zona</th>\n",
              "      <th>Fumador Activo</th>\n",
              "      <th>¿Diabetes?</th>\n",
              "      <th>Hipertensión Arterial Sistemica</th>\n",
              "      <th>HTA + DM</th>\n",
              "      <th>Clasificacion de Diabetes o del ultimo estado de Glicemia</th>\n",
              "      <th>Complicaciones  y Lesiones en Organo Blanco</th>\n",
              "      <th>Antecedentes_Fliar_Enfermedad_Coronaria</th>\n",
              "      <th>...</th>\n",
              "      <th>Creatinina</th>\n",
              "      <th>Factor de corrección de la formula</th>\n",
              "      <th>Proteinuria</th>\n",
              "      <th>Calculo de  TFG corregida (Cockcroft-Gault)</th>\n",
              "      <th>Estadio IRC</th>\n",
              "      <th>Remisiones Especialidad</th>\n",
              "      <th>Farmacos  Antihipertensivos</th>\n",
              "      <th>Estatina</th>\n",
              "      <th>Antidiabeticos</th>\n",
              "      <th>Adherencia al tratamiento</th>\n",
              "    </tr>\n",
              "  </thead>\n",
              "  <tbody>\n",
              "    <tr>\n",
              "      <th>0</th>\n",
              "      <td>82</td>\n",
              "      <td>2</td>\n",
              "      <td>1</td>\n",
              "      <td>1</td>\n",
              "      <td>1</td>\n",
              "      <td>2</td>\n",
              "      <td>1</td>\n",
              "      <td>0.0</td>\n",
              "      <td>1</td>\n",
              "      <td>1</td>\n",
              "      <td>...</td>\n",
              "      <td>132.0</td>\n",
              "      <td>85</td>\n",
              "      <td>0.0</td>\n",
              "      <td>37.348485</td>\n",
              "      <td>3.0</td>\n",
              "      <td>1.0</td>\n",
              "      <td>1.0</td>\n",
              "      <td>0</td>\n",
              "      <td>2.0</td>\n",
              "      <td>1.0</td>\n",
              "    </tr>\n",
              "    <tr>\n",
              "      <th>1</th>\n",
              "      <td>83</td>\n",
              "      <td>2</td>\n",
              "      <td>1</td>\n",
              "      <td>1</td>\n",
              "      <td>1</td>\n",
              "      <td>2</td>\n",
              "      <td>1</td>\n",
              "      <td>0.0</td>\n",
              "      <td>1</td>\n",
              "      <td>1</td>\n",
              "      <td>...</td>\n",
              "      <td>97.0</td>\n",
              "      <td>85</td>\n",
              "      <td>0.0</td>\n",
              "      <td>33.000000</td>\n",
              "      <td>3.0</td>\n",
              "      <td>1.0</td>\n",
              "      <td>2.0</td>\n",
              "      <td>0</td>\n",
              "      <td>0.0</td>\n",
              "      <td>1.0</td>\n",
              "    </tr>\n",
              "    <tr>\n",
              "      <th>2</th>\n",
              "      <td>54</td>\n",
              "      <td>2</td>\n",
              "      <td>1</td>\n",
              "      <td>1</td>\n",
              "      <td>1</td>\n",
              "      <td>1</td>\n",
              "      <td>1</td>\n",
              "      <td>0.0</td>\n",
              "      <td>1</td>\n",
              "      <td>1</td>\n",
              "      <td>...</td>\n",
              "      <td>97.0</td>\n",
              "      <td>85</td>\n",
              "      <td>0.0</td>\n",
              "      <td>51.000000</td>\n",
              "      <td>3.0</td>\n",
              "      <td>1.0</td>\n",
              "      <td>3.0</td>\n",
              "      <td>0</td>\n",
              "      <td>0.0</td>\n",
              "      <td>1.0</td>\n",
              "    </tr>\n",
              "    <tr>\n",
              "      <th>3</th>\n",
              "      <td>68</td>\n",
              "      <td>2</td>\n",
              "      <td>1</td>\n",
              "      <td>1</td>\n",
              "      <td>1</td>\n",
              "      <td>1</td>\n",
              "      <td>1</td>\n",
              "      <td>0.0</td>\n",
              "      <td>1</td>\n",
              "      <td>1</td>\n",
              "      <td>...</td>\n",
              "      <td>86.0</td>\n",
              "      <td>85</td>\n",
              "      <td>0.0</td>\n",
              "      <td>53.372093</td>\n",
              "      <td>3.0</td>\n",
              "      <td>1.0</td>\n",
              "      <td>1.0</td>\n",
              "      <td>0</td>\n",
              "      <td>0.0</td>\n",
              "      <td>1.0</td>\n",
              "    </tr>\n",
              "    <tr>\n",
              "      <th>4</th>\n",
              "      <td>68</td>\n",
              "      <td>2</td>\n",
              "      <td>1</td>\n",
              "      <td>1</td>\n",
              "      <td>2</td>\n",
              "      <td>1</td>\n",
              "      <td>1</td>\n",
              "      <td>2.0</td>\n",
              "      <td>1</td>\n",
              "      <td>1</td>\n",
              "      <td>...</td>\n",
              "      <td>71.0</td>\n",
              "      <td>85</td>\n",
              "      <td>0.0</td>\n",
              "      <td>68.239437</td>\n",
              "      <td>2.0</td>\n",
              "      <td>1.0</td>\n",
              "      <td>2.0</td>\n",
              "      <td>0</td>\n",
              "      <td>3.0</td>\n",
              "      <td>1.0</td>\n",
              "    </tr>\n",
              "  </tbody>\n",
              "</table>\n",
              "<p>5 rows × 35 columns</p>\n",
              "</div>\n",
              "    <div class=\"colab-df-buttons\">\n",
              "\n",
              "  <div class=\"colab-df-container\">\n",
              "    <button class=\"colab-df-convert\" onclick=\"convertToInteractive('df-6cf1d3d3-560a-4b70-b85f-8e86fb691b1f')\"\n",
              "            title=\"Convert this dataframe to an interactive table.\"\n",
              "            style=\"display:none;\">\n",
              "\n",
              "  <svg xmlns=\"http://www.w3.org/2000/svg\" height=\"24px\" viewBox=\"0 -960 960 960\">\n",
              "    <path d=\"M120-120v-720h720v720H120Zm60-500h600v-160H180v160Zm220 220h160v-160H400v160Zm0 220h160v-160H400v160ZM180-400h160v-160H180v160Zm440 0h160v-160H620v160ZM180-180h160v-160H180v160Zm440 0h160v-160H620v160Z\"/>\n",
              "  </svg>\n",
              "    </button>\n",
              "\n",
              "  <style>\n",
              "    .colab-df-container {\n",
              "      display:flex;\n",
              "      gap: 12px;\n",
              "    }\n",
              "\n",
              "    .colab-df-convert {\n",
              "      background-color: #E8F0FE;\n",
              "      border: none;\n",
              "      border-radius: 50%;\n",
              "      cursor: pointer;\n",
              "      display: none;\n",
              "      fill: #1967D2;\n",
              "      height: 32px;\n",
              "      padding: 0 0 0 0;\n",
              "      width: 32px;\n",
              "    }\n",
              "\n",
              "    .colab-df-convert:hover {\n",
              "      background-color: #E2EBFA;\n",
              "      box-shadow: 0px 1px 2px rgba(60, 64, 67, 0.3), 0px 1px 3px 1px rgba(60, 64, 67, 0.15);\n",
              "      fill: #174EA6;\n",
              "    }\n",
              "\n",
              "    .colab-df-buttons div {\n",
              "      margin-bottom: 4px;\n",
              "    }\n",
              "\n",
              "    [theme=dark] .colab-df-convert {\n",
              "      background-color: #3B4455;\n",
              "      fill: #D2E3FC;\n",
              "    }\n",
              "\n",
              "    [theme=dark] .colab-df-convert:hover {\n",
              "      background-color: #434B5C;\n",
              "      box-shadow: 0px 1px 3px 1px rgba(0, 0, 0, 0.15);\n",
              "      filter: drop-shadow(0px 1px 2px rgba(0, 0, 0, 0.3));\n",
              "      fill: #FFFFFF;\n",
              "    }\n",
              "  </style>\n",
              "\n",
              "    <script>\n",
              "      const buttonEl =\n",
              "        document.querySelector('#df-6cf1d3d3-560a-4b70-b85f-8e86fb691b1f button.colab-df-convert');\n",
              "      buttonEl.style.display =\n",
              "        google.colab.kernel.accessAllowed ? 'block' : 'none';\n",
              "\n",
              "      async function convertToInteractive(key) {\n",
              "        const element = document.querySelector('#df-6cf1d3d3-560a-4b70-b85f-8e86fb691b1f');\n",
              "        const dataTable =\n",
              "          await google.colab.kernel.invokeFunction('convertToInteractive',\n",
              "                                                    [key], {});\n",
              "        if (!dataTable) return;\n",
              "\n",
              "        const docLinkHtml = 'Like what you see? Visit the ' +\n",
              "          '<a target=\"_blank\" href=https://colab.research.google.com/notebooks/data_table.ipynb>data table notebook</a>'\n",
              "          + ' to learn more about interactive tables.';\n",
              "        element.innerHTML = '';\n",
              "        dataTable['output_type'] = 'display_data';\n",
              "        await google.colab.output.renderOutput(dataTable, element);\n",
              "        const docLink = document.createElement('div');\n",
              "        docLink.innerHTML = docLinkHtml;\n",
              "        element.appendChild(docLink);\n",
              "      }\n",
              "    </script>\n",
              "  </div>\n",
              "\n",
              "\n",
              "<div id=\"df-4bfba615-f8f5-4095-9fb9-a46baf509851\">\n",
              "  <button class=\"colab-df-quickchart\" onclick=\"quickchart('df-4bfba615-f8f5-4095-9fb9-a46baf509851')\"\n",
              "            title=\"Suggest charts\"\n",
              "            style=\"display:none;\">\n",
              "\n",
              "<svg xmlns=\"http://www.w3.org/2000/svg\" height=\"24px\"viewBox=\"0 0 24 24\"\n",
              "     width=\"24px\">\n",
              "    <g>\n",
              "        <path d=\"M19 3H5c-1.1 0-2 .9-2 2v14c0 1.1.9 2 2 2h14c1.1 0 2-.9 2-2V5c0-1.1-.9-2-2-2zM9 17H7v-7h2v7zm4 0h-2V7h2v10zm4 0h-2v-4h2v4z\"/>\n",
              "    </g>\n",
              "</svg>\n",
              "  </button>\n",
              "\n",
              "<style>\n",
              "  .colab-df-quickchart {\n",
              "      --bg-color: #E8F0FE;\n",
              "      --fill-color: #1967D2;\n",
              "      --hover-bg-color: #E2EBFA;\n",
              "      --hover-fill-color: #174EA6;\n",
              "      --disabled-fill-color: #AAA;\n",
              "      --disabled-bg-color: #DDD;\n",
              "  }\n",
              "\n",
              "  [theme=dark] .colab-df-quickchart {\n",
              "      --bg-color: #3B4455;\n",
              "      --fill-color: #D2E3FC;\n",
              "      --hover-bg-color: #434B5C;\n",
              "      --hover-fill-color: #FFFFFF;\n",
              "      --disabled-bg-color: #3B4455;\n",
              "      --disabled-fill-color: #666;\n",
              "  }\n",
              "\n",
              "  .colab-df-quickchart {\n",
              "    background-color: var(--bg-color);\n",
              "    border: none;\n",
              "    border-radius: 50%;\n",
              "    cursor: pointer;\n",
              "    display: none;\n",
              "    fill: var(--fill-color);\n",
              "    height: 32px;\n",
              "    padding: 0;\n",
              "    width: 32px;\n",
              "  }\n",
              "\n",
              "  .colab-df-quickchart:hover {\n",
              "    background-color: var(--hover-bg-color);\n",
              "    box-shadow: 0 1px 2px rgba(60, 64, 67, 0.3), 0 1px 3px 1px rgba(60, 64, 67, 0.15);\n",
              "    fill: var(--button-hover-fill-color);\n",
              "  }\n",
              "\n",
              "  .colab-df-quickchart-complete:disabled,\n",
              "  .colab-df-quickchart-complete:disabled:hover {\n",
              "    background-color: var(--disabled-bg-color);\n",
              "    fill: var(--disabled-fill-color);\n",
              "    box-shadow: none;\n",
              "  }\n",
              "\n",
              "  .colab-df-spinner {\n",
              "    border: 2px solid var(--fill-color);\n",
              "    border-color: transparent;\n",
              "    border-bottom-color: var(--fill-color);\n",
              "    animation:\n",
              "      spin 1s steps(1) infinite;\n",
              "  }\n",
              "\n",
              "  @keyframes spin {\n",
              "    0% {\n",
              "      border-color: transparent;\n",
              "      border-bottom-color: var(--fill-color);\n",
              "      border-left-color: var(--fill-color);\n",
              "    }\n",
              "    20% {\n",
              "      border-color: transparent;\n",
              "      border-left-color: var(--fill-color);\n",
              "      border-top-color: var(--fill-color);\n",
              "    }\n",
              "    30% {\n",
              "      border-color: transparent;\n",
              "      border-left-color: var(--fill-color);\n",
              "      border-top-color: var(--fill-color);\n",
              "      border-right-color: var(--fill-color);\n",
              "    }\n",
              "    40% {\n",
              "      border-color: transparent;\n",
              "      border-right-color: var(--fill-color);\n",
              "      border-top-color: var(--fill-color);\n",
              "    }\n",
              "    60% {\n",
              "      border-color: transparent;\n",
              "      border-right-color: var(--fill-color);\n",
              "    }\n",
              "    80% {\n",
              "      border-color: transparent;\n",
              "      border-right-color: var(--fill-color);\n",
              "      border-bottom-color: var(--fill-color);\n",
              "    }\n",
              "    90% {\n",
              "      border-color: transparent;\n",
              "      border-bottom-color: var(--fill-color);\n",
              "    }\n",
              "  }\n",
              "</style>\n",
              "\n",
              "  <script>\n",
              "    async function quickchart(key) {\n",
              "      const quickchartButtonEl =\n",
              "        document.querySelector('#' + key + ' button');\n",
              "      quickchartButtonEl.disabled = true;  // To prevent multiple clicks.\n",
              "      quickchartButtonEl.classList.add('colab-df-spinner');\n",
              "      try {\n",
              "        const charts = await google.colab.kernel.invokeFunction(\n",
              "            'suggestCharts', [key], {});\n",
              "      } catch (error) {\n",
              "        console.error('Error during call to suggestCharts:', error);\n",
              "      }\n",
              "      quickchartButtonEl.classList.remove('colab-df-spinner');\n",
              "      quickchartButtonEl.classList.add('colab-df-quickchart-complete');\n",
              "    }\n",
              "    (() => {\n",
              "      let quickchartButtonEl =\n",
              "        document.querySelector('#df-4bfba615-f8f5-4095-9fb9-a46baf509851 button');\n",
              "      quickchartButtonEl.style.display =\n",
              "        google.colab.kernel.accessAllowed ? 'block' : 'none';\n",
              "    })();\n",
              "  </script>\n",
              "</div>\n",
              "    </div>\n",
              "  </div>\n"
            ]
          },
          "metadata": {},
          "execution_count": 5
        }
      ]
    },
    {
      "cell_type": "code",
      "source": [
        "data.dtypes"
      ],
      "metadata": {
        "id": "pHpr2_1D3qk8",
        "colab": {
          "base_uri": "https://localhost:8080/"
        },
        "outputId": "20a76d68-cbe5-45a5-8d6a-9f526f0aa326"
      },
      "id": "pHpr2_1D3qk8",
      "execution_count": null,
      "outputs": [
        {
          "output_type": "execute_result",
          "data": {
            "text/plain": [
              "Edad (años)                                                    int64\n",
              "Genero                                                         int64\n",
              "Zona                                                           int64\n",
              "Fumador Activo                                                 int64\n",
              "¿Diabetes?                                                     int64\n",
              "Hipertensión Arterial Sistemica                                int64\n",
              "HTA + DM                                                       int64\n",
              "Clasificacion de Diabetes o del ultimo estado de Glicemia    float64\n",
              "Complicaciones  y Lesiones en Organo Blanco                    int64\n",
              "Antecedentes_Fliar_Enfermedad_Coronaria                        int64\n",
              "Tension SISTOLICA                                              int64\n",
              "Tension DIASTOLICA                                           float64\n",
              "HTA COMPENSADOS                                                int64\n",
              "Colesterol Total                                               int64\n",
              "Colesterol HDL                                               float64\n",
              "Trigliceridos                                                  int64\n",
              "Colesterol LDL                                               float64\n",
              "HTA Y DM COMPENSADA                                            int64\n",
              "Glicemia de ayuno                                            float64\n",
              "Perimetro Abdominal                                          float64\n",
              "Clasificación perímetro abdominal                            float64\n",
              "Peso                                                           int64\n",
              "Talla                                                          int64\n",
              "IMC                                                            int64\n",
              "CLASIFICACION IMC                                              int64\n",
              "Creatinina                                                   float64\n",
              "Factor de corrección de la formula                             int64\n",
              "Proteinuria                                                  float64\n",
              "Calculo de  TFG corregida (Cockcroft-Gault)                  float64\n",
              "Estadio IRC                                                  float64\n",
              "Remisiones Especialidad                                      float64\n",
              "Farmacos  Antihipertensivos                                  float64\n",
              "Estatina                                                       int64\n",
              "Antidiabeticos                                               float64\n",
              "Adherencia al tratamiento                                    float64\n",
              "dtype: object"
            ]
          },
          "metadata": {},
          "execution_count": 6
        }
      ]
    },
    {
      "cell_type": "markdown",
      "source": [
        "## Conteo de clases\n",
        "\n",
        "El desbalance de clases es notorio. La clase que representa al riesgo cardiovascular intermedio tiene 40% menos muestras que el riesgo cardiovascular alto. Entretanto, la clase que representa al riesgo cardiovascular bajo tiene 60% menos muestras que el riesgo cardiovascular alto."
      ],
      "metadata": {
        "id": "cY7fuulPDmAL"
      },
      "id": "cY7fuulPDmAL"
    },
    {
      "cell_type": "code",
      "source": [
        "import pandas as pd\n",
        "pd.DataFrame(target).value_counts()"
      ],
      "metadata": {
        "id": "Qw3A8P10DqBR",
        "colab": {
          "base_uri": "https://localhost:8080/"
        },
        "outputId": "6026cc20-bbe8-466e-9797-7de0d2568462"
      },
      "id": "Qw3A8P10DqBR",
      "execution_count": null,
      "outputs": [
        {
          "output_type": "execute_result",
          "data": {
            "text/plain": [
              "2    1597\n",
              "1     820\n",
              "0     583\n",
              "dtype: int64"
            ]
          },
          "metadata": {},
          "execution_count": 7
        }
      ]
    },
    {
      "cell_type": "markdown",
      "id": "maritime-warren",
      "metadata": {
        "id": "maritime-warren"
      },
      "source": [
        "## Preparar datos para el entrenamiento de la RNA\n",
        "En esta sección se excluyen la etapa de preprocesamiento de los datos, en la cual, se segue una metodología para asegurar la calidad de los datos. Así mismo, se excluye la etapa de análisis exploratorio de datos, en la cual, se eaplican técnicas de estadística descriptiva y, en algunos casos, inferencial. Por lo tanto, para efectos del taller, esta sección se restringue a la partición del conjunto original de datos para obtener los tres subconjguntos vitales en el entrenamiento y evaluación del modelo predictivo."
      ]
    },
    {
      "cell_type": "markdown",
      "id": "waiting-pizza",
      "metadata": {
        "id": "waiting-pizza"
      },
      "source": [
        "### Particionar datos"
      ]
    },
    {
      "cell_type": "code",
      "source": [
        "## Particionar el conjunto de datos para crear datos de entrenamiento, evaluación y validación.\n",
        "sc = StandardScaler()\n",
        "Xsc = sc.fit(data)\n",
        "X = Xsc.transform(data)\n",
        "X.shape\n",
        "\n",
        "X_train, X_test, y_train, y_test = split(X,target,\n",
        "                                         test_size=0.30,\n",
        "                                         random_state=42,\n",
        "                                         stratify=target)\n",
        "X_train, X_valid, y_train, y_valid = split(X_train, y_train,\n",
        "                                           test_size=0.2,\n",
        "                                           stratify=y_train)\n",
        "print(\"El tamaño de los nuevos subconjuntos es: \", X_train.shape, X_test.shape, X_valid.shape)\n",
        "print(\"Y es la variable que tiene las etiquetas de las clases a predecir: \", y_train.shape, y_test.shape, y_valid.shape)"
      ],
      "metadata": {
        "id": "5KnSXVxYVyxr",
        "colab": {
          "base_uri": "https://localhost:8080/"
        },
        "outputId": "72a9f0f5-054c-47ff-f202-05929236b837"
      },
      "id": "5KnSXVxYVyxr",
      "execution_count": null,
      "outputs": [
        {
          "output_type": "stream",
          "name": "stdout",
          "text": [
            "El tamaño de los nuevos subconjuntos es:  (1680, 35) (900, 35) (420, 35)\n",
            "Y es la variable que tiene las etiquetas de las clases a predecir:  (1680,) (900,) (420,)\n"
          ]
        }
      ]
    },
    {
      "cell_type": "markdown",
      "source": [
        "### Transformación de etiquetas de la clase objetivo (Predicción Multiclase)"
      ],
      "metadata": {
        "id": "h6XCkQXzYfYh"
      },
      "id": "h6XCkQXzYfYh"
    },
    {
      "cell_type": "code",
      "execution_count": null,
      "id": "productive-bunny",
      "metadata": {
        "id": "productive-bunny"
      },
      "outputs": [],
      "source": [
        "# #Transformación de las etiquetas requerida para el entrenamiento de RNA\n",
        "Y_train = np_utils.to_categorical(y_train)\n",
        "Y_test = np_utils.to_categorical(y_test)\n",
        "Y_valid = np_utils.to_categorical(y_valid)"
      ]
    },
    {
      "cell_type": "markdown",
      "id": "assured-conversation",
      "metadata": {
        "id": "assured-conversation"
      },
      "source": [
        "## Entrenamiento del modelo predictivo basado en RNA"
      ]
    },
    {
      "cell_type": "code",
      "source": [
        "# Optimización de hiperparámetros\n",
        "#funcion de activacion\n",
        "#loss\n",
        "#metrics\n",
        "#optimizer\n",
        "#learning_rate\n",
        "#epochs\n",
        "#batch_size"
      ],
      "metadata": {
        "id": "rJ5hcFCxa-c_"
      },
      "id": "rJ5hcFCxa-c_",
      "execution_count": null,
      "outputs": []
    },
    {
      "cell_type": "markdown",
      "id": "external-sydney",
      "metadata": {
        "id": "external-sydney"
      },
      "source": [
        "### Diseño de la arquitectura del modelo de red neuronal artificial"
      ]
    },
    {
      "cell_type": "markdown",
      "source": [
        "### Compilar el modelo creado"
      ],
      "metadata": {
        "id": "ychB9Bk6p4xq"
      },
      "id": "ychB9Bk6p4xq"
    },
    {
      "cell_type": "code",
      "execution_count": null,
      "id": "subject-electric",
      "metadata": {
        "id": "subject-electric"
      },
      "outputs": [],
      "source": [
        "# Definir la arquitectura del modelo de la RNA\n",
        "modelRNA = models.Sequential()\n",
        "modelRNA.add(Dense(1, batch_input_shape=(None, 35), activation='relu')) ## neuronas en la capa de entrada (batch_input_shape) y #neuronas en la primera capa oculta\n",
        "# modelRNA.add(Dense(1, activation='relu'))\n",
        "modelRNA.add(Dense(3, activation='softmax'))"
      ]
    },
    {
      "cell_type": "code",
      "source": [
        "# compile the keras (tensorflow) flow graph\n",
        "modelRNA.compile(optimizer=optimizers.RMSprop(learning_rate=0.001),\n",
        "              loss='binary_crossentropy',\n",
        "              metrics=['accuracy'])"
      ],
      "metadata": {
        "id": "fmO_BWTTp8yS"
      },
      "id": "fmO_BWTTp8yS",
      "execution_count": null,
      "outputs": []
    },
    {
      "cell_type": "markdown",
      "source": [
        "### Entrenamiento del modelo de RNA"
      ],
      "metadata": {
        "id": "ZkxGCNZJpyIa"
      },
      "id": "ZkxGCNZJpyIa"
    },
    {
      "cell_type": "code",
      "source": [
        "# Inicializar el reloj para calcular tiempo de cómputo\n",
        "t0 = process_time()"
      ],
      "metadata": {
        "id": "EuZG0sHJr-pz"
      },
      "id": "EuZG0sHJr-pz",
      "execution_count": null,
      "outputs": []
    },
    {
      "cell_type": "code",
      "source": [
        "training_log = modelRNA.fit(X_train,\n",
        "                    Y_train,\n",
        "                    epochs=200,\n",
        "                    batch_size=32,\n",
        "                    validation_data=(X_valid, Y_valid),\n",
        "                    verbose=1)"
      ],
      "metadata": {
        "id": "WEXqIZWeIjmt",
        "colab": {
          "base_uri": "https://localhost:8080/"
        },
        "outputId": "9150a991-8e68-41ad-c663-3a7bf1dac77e"
      },
      "id": "WEXqIZWeIjmt",
      "execution_count": null,
      "outputs": [
        {
          "output_type": "stream",
          "name": "stdout",
          "text": [
            "Epoch 1/200\n",
            "53/53 [==============================] - 1s 8ms/step - loss: 0.6765 - accuracy: 0.3637 - val_loss: 0.6693 - val_accuracy: 0.4095\n",
            "Epoch 2/200\n",
            "53/53 [==============================] - 0s 3ms/step - loss: 0.6650 - accuracy: 0.4940 - val_loss: 0.6580 - val_accuracy: 0.5310\n",
            "Epoch 3/200\n",
            "53/53 [==============================] - 0s 3ms/step - loss: 0.6544 - accuracy: 0.5327 - val_loss: 0.6475 - val_accuracy: 0.5310\n",
            "Epoch 4/200\n",
            "53/53 [==============================] - 0s 4ms/step - loss: 0.6439 - accuracy: 0.5327 - val_loss: 0.6369 - val_accuracy: 0.5310\n",
            "Epoch 5/200\n",
            "53/53 [==============================] - 0s 3ms/step - loss: 0.6335 - accuracy: 0.5327 - val_loss: 0.6265 - val_accuracy: 0.5310\n",
            "Epoch 6/200\n",
            "53/53 [==============================] - 0s 4ms/step - loss: 0.6234 - accuracy: 0.5327 - val_loss: 0.6164 - val_accuracy: 0.5310\n",
            "Epoch 7/200\n",
            "53/53 [==============================] - 0s 4ms/step - loss: 0.6134 - accuracy: 0.5327 - val_loss: 0.6066 - val_accuracy: 0.5310\n",
            "Epoch 8/200\n",
            "53/53 [==============================] - 0s 4ms/step - loss: 0.6035 - accuracy: 0.5327 - val_loss: 0.5970 - val_accuracy: 0.5310\n",
            "Epoch 9/200\n",
            "53/53 [==============================] - 0s 4ms/step - loss: 0.5935 - accuracy: 0.5327 - val_loss: 0.5875 - val_accuracy: 0.5310\n",
            "Epoch 10/200\n",
            "53/53 [==============================] - 0s 4ms/step - loss: 0.5837 - accuracy: 0.5327 - val_loss: 0.5783 - val_accuracy: 0.5310\n",
            "Epoch 11/200\n",
            "53/53 [==============================] - 0s 3ms/step - loss: 0.5741 - accuracy: 0.5327 - val_loss: 0.5694 - val_accuracy: 0.5310\n",
            "Epoch 12/200\n",
            "53/53 [==============================] - 0s 3ms/step - loss: 0.5647 - accuracy: 0.5327 - val_loss: 0.5606 - val_accuracy: 0.5310\n",
            "Epoch 13/200\n",
            "53/53 [==============================] - 0s 7ms/step - loss: 0.5552 - accuracy: 0.5327 - val_loss: 0.5519 - val_accuracy: 0.5310\n",
            "Epoch 14/200\n",
            "53/53 [==============================] - 0s 9ms/step - loss: 0.5461 - accuracy: 0.5327 - val_loss: 0.5433 - val_accuracy: 0.5310\n",
            "Epoch 15/200\n",
            "53/53 [==============================] - 0s 9ms/step - loss: 0.5372 - accuracy: 0.5327 - val_loss: 0.5349 - val_accuracy: 0.5310\n",
            "Epoch 16/200\n",
            "53/53 [==============================] - 1s 14ms/step - loss: 0.5287 - accuracy: 0.5327 - val_loss: 0.5269 - val_accuracy: 0.5310\n",
            "Epoch 17/200\n",
            "53/53 [==============================] - 1s 11ms/step - loss: 0.5205 - accuracy: 0.5327 - val_loss: 0.5186 - val_accuracy: 0.5310\n",
            "Epoch 18/200\n",
            "53/53 [==============================] - 0s 6ms/step - loss: 0.5121 - accuracy: 0.5327 - val_loss: 0.5101 - val_accuracy: 0.5310\n",
            "Epoch 19/200\n",
            "53/53 [==============================] - 1s 11ms/step - loss: 0.5038 - accuracy: 0.5327 - val_loss: 0.5019 - val_accuracy: 0.5310\n",
            "Epoch 20/200\n",
            "53/53 [==============================] - 0s 8ms/step - loss: 0.4959 - accuracy: 0.5327 - val_loss: 0.4936 - val_accuracy: 0.5310\n",
            "Epoch 21/200\n",
            "53/53 [==============================] - 0s 8ms/step - loss: 0.4883 - accuracy: 0.5327 - val_loss: 0.4855 - val_accuracy: 0.5310\n",
            "Epoch 22/200\n",
            "53/53 [==============================] - 1s 10ms/step - loss: 0.4803 - accuracy: 0.5327 - val_loss: 0.4770 - val_accuracy: 0.5310\n",
            "Epoch 23/200\n",
            "53/53 [==============================] - 0s 8ms/step - loss: 0.4718 - accuracy: 0.5327 - val_loss: 0.4687 - val_accuracy: 0.5310\n",
            "Epoch 24/200\n",
            "53/53 [==============================] - 0s 5ms/step - loss: 0.4640 - accuracy: 0.5327 - val_loss: 0.4611 - val_accuracy: 0.5310\n",
            "Epoch 25/200\n",
            "53/53 [==============================] - 0s 5ms/step - loss: 0.4560 - accuracy: 0.5875 - val_loss: 0.4537 - val_accuracy: 0.6262\n",
            "Epoch 26/200\n",
            "53/53 [==============================] - 0s 3ms/step - loss: 0.4485 - accuracy: 0.6262 - val_loss: 0.4475 - val_accuracy: 0.6333\n",
            "Epoch 27/200\n",
            "53/53 [==============================] - 0s 3ms/step - loss: 0.4423 - accuracy: 0.6339 - val_loss: 0.4424 - val_accuracy: 0.6286\n",
            "Epoch 28/200\n",
            "53/53 [==============================] - 0s 3ms/step - loss: 0.4371 - accuracy: 0.6411 - val_loss: 0.4377 - val_accuracy: 0.6286\n",
            "Epoch 29/200\n",
            "53/53 [==============================] - 0s 4ms/step - loss: 0.4322 - accuracy: 0.6440 - val_loss: 0.4329 - val_accuracy: 0.6286\n",
            "Epoch 30/200\n",
            "53/53 [==============================] - 0s 5ms/step - loss: 0.4276 - accuracy: 0.6476 - val_loss: 0.4287 - val_accuracy: 0.6381\n",
            "Epoch 31/200\n",
            "53/53 [==============================] - 0s 5ms/step - loss: 0.4236 - accuracy: 0.6548 - val_loss: 0.4248 - val_accuracy: 0.6405\n",
            "Epoch 32/200\n",
            "53/53 [==============================] - 0s 5ms/step - loss: 0.4199 - accuracy: 0.6601 - val_loss: 0.4210 - val_accuracy: 0.6429\n",
            "Epoch 33/200\n",
            "53/53 [==============================] - 0s 5ms/step - loss: 0.4165 - accuracy: 0.6667 - val_loss: 0.4174 - val_accuracy: 0.6500\n",
            "Epoch 34/200\n",
            "53/53 [==============================] - 0s 5ms/step - loss: 0.4132 - accuracy: 0.6708 - val_loss: 0.4139 - val_accuracy: 0.6500\n",
            "Epoch 35/200\n",
            "53/53 [==============================] - 0s 4ms/step - loss: 0.4102 - accuracy: 0.6768 - val_loss: 0.4109 - val_accuracy: 0.6595\n",
            "Epoch 36/200\n",
            "53/53 [==============================] - 0s 5ms/step - loss: 0.4075 - accuracy: 0.6786 - val_loss: 0.4082 - val_accuracy: 0.6643\n",
            "Epoch 37/200\n",
            "53/53 [==============================] - 0s 5ms/step - loss: 0.4052 - accuracy: 0.6798 - val_loss: 0.4056 - val_accuracy: 0.6667\n",
            "Epoch 38/200\n",
            "53/53 [==============================] - 0s 5ms/step - loss: 0.4028 - accuracy: 0.6827 - val_loss: 0.4030 - val_accuracy: 0.6667\n",
            "Epoch 39/200\n",
            "53/53 [==============================] - 0s 6ms/step - loss: 0.4007 - accuracy: 0.6821 - val_loss: 0.4008 - val_accuracy: 0.6714\n",
            "Epoch 40/200\n",
            "53/53 [==============================] - 0s 5ms/step - loss: 0.3988 - accuracy: 0.6851 - val_loss: 0.3986 - val_accuracy: 0.6762\n",
            "Epoch 41/200\n",
            "53/53 [==============================] - 0s 5ms/step - loss: 0.3969 - accuracy: 0.6881 - val_loss: 0.3969 - val_accuracy: 0.6762\n",
            "Epoch 42/200\n",
            "53/53 [==============================] - 0s 6ms/step - loss: 0.3954 - accuracy: 0.6899 - val_loss: 0.3953 - val_accuracy: 0.6833\n",
            "Epoch 43/200\n",
            "53/53 [==============================] - 0s 5ms/step - loss: 0.3938 - accuracy: 0.6911 - val_loss: 0.3938 - val_accuracy: 0.6833\n",
            "Epoch 44/200\n",
            "53/53 [==============================] - 0s 6ms/step - loss: 0.3923 - accuracy: 0.6917 - val_loss: 0.3923 - val_accuracy: 0.6833\n",
            "Epoch 45/200\n",
            "53/53 [==============================] - 0s 5ms/step - loss: 0.3910 - accuracy: 0.6911 - val_loss: 0.3910 - val_accuracy: 0.6810\n",
            "Epoch 46/200\n",
            "53/53 [==============================] - 0s 5ms/step - loss: 0.3898 - accuracy: 0.6911 - val_loss: 0.3897 - val_accuracy: 0.6810\n",
            "Epoch 47/200\n",
            "53/53 [==============================] - 0s 5ms/step - loss: 0.3886 - accuracy: 0.6940 - val_loss: 0.3887 - val_accuracy: 0.6810\n",
            "Epoch 48/200\n",
            "53/53 [==============================] - 0s 4ms/step - loss: 0.3876 - accuracy: 0.6952 - val_loss: 0.3875 - val_accuracy: 0.6810\n",
            "Epoch 49/200\n",
            "53/53 [==============================] - 0s 4ms/step - loss: 0.3865 - accuracy: 0.6952 - val_loss: 0.3864 - val_accuracy: 0.6810\n",
            "Epoch 50/200\n",
            "53/53 [==============================] - 0s 5ms/step - loss: 0.3856 - accuracy: 0.6964 - val_loss: 0.3855 - val_accuracy: 0.6786\n",
            "Epoch 51/200\n",
            "53/53 [==============================] - 0s 5ms/step - loss: 0.3847 - accuracy: 0.6976 - val_loss: 0.3846 - val_accuracy: 0.6786\n",
            "Epoch 52/200\n",
            "53/53 [==============================] - 0s 5ms/step - loss: 0.3838 - accuracy: 0.7000 - val_loss: 0.3839 - val_accuracy: 0.6786\n",
            "Epoch 53/200\n",
            "53/53 [==============================] - 0s 5ms/step - loss: 0.3831 - accuracy: 0.6988 - val_loss: 0.3829 - val_accuracy: 0.6857\n",
            "Epoch 54/200\n",
            "53/53 [==============================] - 0s 5ms/step - loss: 0.3823 - accuracy: 0.6976 - val_loss: 0.3820 - val_accuracy: 0.6881\n",
            "Epoch 55/200\n",
            "53/53 [==============================] - 0s 6ms/step - loss: 0.3816 - accuracy: 0.6994 - val_loss: 0.3812 - val_accuracy: 0.6881\n",
            "Epoch 56/200\n",
            "53/53 [==============================] - 0s 5ms/step - loss: 0.3810 - accuracy: 0.7006 - val_loss: 0.3805 - val_accuracy: 0.6881\n",
            "Epoch 57/200\n",
            "53/53 [==============================] - 0s 3ms/step - loss: 0.3804 - accuracy: 0.6994 - val_loss: 0.3799 - val_accuracy: 0.6905\n",
            "Epoch 58/200\n",
            "53/53 [==============================] - 0s 3ms/step - loss: 0.3798 - accuracy: 0.7006 - val_loss: 0.3792 - val_accuracy: 0.6905\n",
            "Epoch 59/200\n",
            "53/53 [==============================] - 0s 3ms/step - loss: 0.3794 - accuracy: 0.7018 - val_loss: 0.3787 - val_accuracy: 0.6905\n",
            "Epoch 60/200\n",
            "53/53 [==============================] - 0s 4ms/step - loss: 0.3789 - accuracy: 0.7012 - val_loss: 0.3784 - val_accuracy: 0.6905\n",
            "Epoch 61/200\n",
            "53/53 [==============================] - 0s 3ms/step - loss: 0.3784 - accuracy: 0.7012 - val_loss: 0.3780 - val_accuracy: 0.6905\n",
            "Epoch 62/200\n",
            "53/53 [==============================] - 0s 3ms/step - loss: 0.3780 - accuracy: 0.7030 - val_loss: 0.3774 - val_accuracy: 0.6905\n",
            "Epoch 63/200\n",
            "53/53 [==============================] - 0s 3ms/step - loss: 0.3775 - accuracy: 0.7024 - val_loss: 0.3769 - val_accuracy: 0.6905\n",
            "Epoch 64/200\n",
            "53/53 [==============================] - 0s 3ms/step - loss: 0.3772 - accuracy: 0.7042 - val_loss: 0.3765 - val_accuracy: 0.6905\n",
            "Epoch 65/200\n",
            "53/53 [==============================] - 0s 3ms/step - loss: 0.3768 - accuracy: 0.7024 - val_loss: 0.3762 - val_accuracy: 0.6905\n",
            "Epoch 66/200\n",
            "53/53 [==============================] - 0s 4ms/step - loss: 0.3765 - accuracy: 0.7024 - val_loss: 0.3758 - val_accuracy: 0.6905\n",
            "Epoch 67/200\n",
            "53/53 [==============================] - 0s 4ms/step - loss: 0.3761 - accuracy: 0.7030 - val_loss: 0.3752 - val_accuracy: 0.6905\n",
            "Epoch 68/200\n",
            "53/53 [==============================] - 0s 4ms/step - loss: 0.3758 - accuracy: 0.7018 - val_loss: 0.3750 - val_accuracy: 0.6929\n",
            "Epoch 69/200\n",
            "53/53 [==============================] - 0s 4ms/step - loss: 0.3755 - accuracy: 0.7042 - val_loss: 0.3746 - val_accuracy: 0.6929\n",
            "Epoch 70/200\n",
            "53/53 [==============================] - 0s 4ms/step - loss: 0.3752 - accuracy: 0.7030 - val_loss: 0.3742 - val_accuracy: 0.6929\n",
            "Epoch 71/200\n",
            "53/53 [==============================] - 0s 3ms/step - loss: 0.3750 - accuracy: 0.7024 - val_loss: 0.3739 - val_accuracy: 0.6929\n",
            "Epoch 72/200\n",
            "53/53 [==============================] - 0s 3ms/step - loss: 0.3747 - accuracy: 0.7042 - val_loss: 0.3737 - val_accuracy: 0.6929\n",
            "Epoch 73/200\n",
            "53/53 [==============================] - 0s 4ms/step - loss: 0.3745 - accuracy: 0.7042 - val_loss: 0.3735 - val_accuracy: 0.6929\n",
            "Epoch 74/200\n",
            "53/53 [==============================] - 0s 3ms/step - loss: 0.3742 - accuracy: 0.7048 - val_loss: 0.3732 - val_accuracy: 0.6929\n",
            "Epoch 75/200\n",
            "53/53 [==============================] - 0s 4ms/step - loss: 0.3740 - accuracy: 0.7042 - val_loss: 0.3730 - val_accuracy: 0.6929\n",
            "Epoch 76/200\n",
            "53/53 [==============================] - 0s 4ms/step - loss: 0.3738 - accuracy: 0.7054 - val_loss: 0.3729 - val_accuracy: 0.6929\n",
            "Epoch 77/200\n",
            "53/53 [==============================] - 0s 4ms/step - loss: 0.3736 - accuracy: 0.7054 - val_loss: 0.3727 - val_accuracy: 0.6929\n",
            "Epoch 78/200\n",
            "53/53 [==============================] - 0s 4ms/step - loss: 0.3735 - accuracy: 0.7065 - val_loss: 0.3724 - val_accuracy: 0.6929\n",
            "Epoch 79/200\n",
            "53/53 [==============================] - 0s 3ms/step - loss: 0.3733 - accuracy: 0.7048 - val_loss: 0.3725 - val_accuracy: 0.6929\n",
            "Epoch 80/200\n",
            "53/53 [==============================] - 0s 4ms/step - loss: 0.3731 - accuracy: 0.7054 - val_loss: 0.3724 - val_accuracy: 0.6929\n",
            "Epoch 81/200\n",
            "53/53 [==============================] - 0s 3ms/step - loss: 0.3730 - accuracy: 0.7054 - val_loss: 0.3722 - val_accuracy: 0.6929\n",
            "Epoch 82/200\n",
            "53/53 [==============================] - 0s 3ms/step - loss: 0.3727 - accuracy: 0.7048 - val_loss: 0.3718 - val_accuracy: 0.6929\n",
            "Epoch 83/200\n",
            "53/53 [==============================] - 0s 3ms/step - loss: 0.3726 - accuracy: 0.7036 - val_loss: 0.3716 - val_accuracy: 0.6929\n",
            "Epoch 84/200\n",
            "53/53 [==============================] - 0s 4ms/step - loss: 0.3724 - accuracy: 0.7048 - val_loss: 0.3716 - val_accuracy: 0.6929\n",
            "Epoch 85/200\n",
            "53/53 [==============================] - 0s 3ms/step - loss: 0.3723 - accuracy: 0.7042 - val_loss: 0.3713 - val_accuracy: 0.6929\n",
            "Epoch 86/200\n",
            "53/53 [==============================] - 0s 4ms/step - loss: 0.3722 - accuracy: 0.7042 - val_loss: 0.3712 - val_accuracy: 0.6929\n",
            "Epoch 87/200\n",
            "53/53 [==============================] - 0s 4ms/step - loss: 0.3719 - accuracy: 0.7048 - val_loss: 0.3713 - val_accuracy: 0.6929\n",
            "Epoch 88/200\n",
            "53/53 [==============================] - 0s 4ms/step - loss: 0.3719 - accuracy: 0.7036 - val_loss: 0.3711 - val_accuracy: 0.6929\n",
            "Epoch 89/200\n",
            "53/53 [==============================] - 0s 3ms/step - loss: 0.3718 - accuracy: 0.7065 - val_loss: 0.3711 - val_accuracy: 0.6929\n",
            "Epoch 90/200\n",
            "53/53 [==============================] - 0s 3ms/step - loss: 0.3717 - accuracy: 0.7060 - val_loss: 0.3710 - val_accuracy: 0.6929\n",
            "Epoch 91/200\n",
            "53/53 [==============================] - 0s 3ms/step - loss: 0.3716 - accuracy: 0.7065 - val_loss: 0.3709 - val_accuracy: 0.6929\n",
            "Epoch 92/200\n",
            "53/53 [==============================] - 0s 3ms/step - loss: 0.3713 - accuracy: 0.7060 - val_loss: 0.3707 - val_accuracy: 0.6929\n",
            "Epoch 93/200\n",
            "53/53 [==============================] - 0s 3ms/step - loss: 0.3713 - accuracy: 0.7054 - val_loss: 0.3708 - val_accuracy: 0.6929\n",
            "Epoch 94/200\n",
            "53/53 [==============================] - 0s 3ms/step - loss: 0.3712 - accuracy: 0.7054 - val_loss: 0.3708 - val_accuracy: 0.6929\n",
            "Epoch 95/200\n",
            "53/53 [==============================] - 0s 3ms/step - loss: 0.3710 - accuracy: 0.7042 - val_loss: 0.3706 - val_accuracy: 0.6929\n",
            "Epoch 96/200\n",
            "53/53 [==============================] - 0s 3ms/step - loss: 0.3708 - accuracy: 0.7054 - val_loss: 0.3706 - val_accuracy: 0.6929\n",
            "Epoch 97/200\n",
            "53/53 [==============================] - 0s 3ms/step - loss: 0.3708 - accuracy: 0.7071 - val_loss: 0.3705 - val_accuracy: 0.6952\n",
            "Epoch 98/200\n",
            "53/53 [==============================] - 0s 4ms/step - loss: 0.3707 - accuracy: 0.7036 - val_loss: 0.3705 - val_accuracy: 0.6929\n",
            "Epoch 99/200\n",
            "53/53 [==============================] - 0s 3ms/step - loss: 0.3706 - accuracy: 0.7071 - val_loss: 0.3703 - val_accuracy: 0.6905\n",
            "Epoch 100/200\n",
            "53/53 [==============================] - 0s 3ms/step - loss: 0.3705 - accuracy: 0.7054 - val_loss: 0.3702 - val_accuracy: 0.6929\n",
            "Epoch 101/200\n",
            "53/53 [==============================] - 0s 3ms/step - loss: 0.3704 - accuracy: 0.7042 - val_loss: 0.3700 - val_accuracy: 0.6952\n",
            "Epoch 102/200\n",
            "53/53 [==============================] - 0s 3ms/step - loss: 0.3703 - accuracy: 0.7048 - val_loss: 0.3698 - val_accuracy: 0.6952\n",
            "Epoch 103/200\n",
            "53/53 [==============================] - 0s 3ms/step - loss: 0.3702 - accuracy: 0.7048 - val_loss: 0.3697 - val_accuracy: 0.6929\n",
            "Epoch 104/200\n",
            "53/53 [==============================] - 0s 4ms/step - loss: 0.3701 - accuracy: 0.7048 - val_loss: 0.3697 - val_accuracy: 0.6929\n",
            "Epoch 105/200\n",
            "53/53 [==============================] - 0s 4ms/step - loss: 0.3699 - accuracy: 0.7065 - val_loss: 0.3698 - val_accuracy: 0.6929\n",
            "Epoch 106/200\n",
            "53/53 [==============================] - 0s 3ms/step - loss: 0.3698 - accuracy: 0.7060 - val_loss: 0.3697 - val_accuracy: 0.6905\n",
            "Epoch 107/200\n",
            "53/53 [==============================] - 0s 4ms/step - loss: 0.3698 - accuracy: 0.7071 - val_loss: 0.3696 - val_accuracy: 0.6905\n",
            "Epoch 108/200\n",
            "53/53 [==============================] - 0s 5ms/step - loss: 0.3696 - accuracy: 0.7060 - val_loss: 0.3696 - val_accuracy: 0.6905\n",
            "Epoch 109/200\n",
            "53/53 [==============================] - 0s 5ms/step - loss: 0.3695 - accuracy: 0.7077 - val_loss: 0.3696 - val_accuracy: 0.6905\n",
            "Epoch 110/200\n",
            "53/53 [==============================] - 0s 5ms/step - loss: 0.3694 - accuracy: 0.7042 - val_loss: 0.3693 - val_accuracy: 0.6905\n",
            "Epoch 111/200\n",
            "53/53 [==============================] - 0s 5ms/step - loss: 0.3693 - accuracy: 0.7065 - val_loss: 0.3692 - val_accuracy: 0.6905\n",
            "Epoch 112/200\n",
            "53/53 [==============================] - 0s 5ms/step - loss: 0.3692 - accuracy: 0.7042 - val_loss: 0.3691 - val_accuracy: 0.6905\n",
            "Epoch 113/200\n",
            "53/53 [==============================] - 0s 4ms/step - loss: 0.3690 - accuracy: 0.7060 - val_loss: 0.3691 - val_accuracy: 0.6905\n",
            "Epoch 114/200\n",
            "53/53 [==============================] - 0s 4ms/step - loss: 0.3691 - accuracy: 0.7054 - val_loss: 0.3690 - val_accuracy: 0.6905\n",
            "Epoch 115/200\n",
            "53/53 [==============================] - 0s 5ms/step - loss: 0.3689 - accuracy: 0.7048 - val_loss: 0.3692 - val_accuracy: 0.6905\n",
            "Epoch 116/200\n",
            "53/53 [==============================] - 0s 6ms/step - loss: 0.3689 - accuracy: 0.7036 - val_loss: 0.3690 - val_accuracy: 0.6929\n",
            "Epoch 117/200\n",
            "53/53 [==============================] - 0s 5ms/step - loss: 0.3687 - accuracy: 0.7060 - val_loss: 0.3685 - val_accuracy: 0.6929\n",
            "Epoch 118/200\n",
            "53/53 [==============================] - 0s 5ms/step - loss: 0.3687 - accuracy: 0.7042 - val_loss: 0.3685 - val_accuracy: 0.6929\n",
            "Epoch 119/200\n",
            "53/53 [==============================] - 0s 5ms/step - loss: 0.3687 - accuracy: 0.7065 - val_loss: 0.3685 - val_accuracy: 0.6929\n",
            "Epoch 120/200\n",
            "53/53 [==============================] - 0s 5ms/step - loss: 0.3685 - accuracy: 0.7030 - val_loss: 0.3686 - val_accuracy: 0.6929\n",
            "Epoch 121/200\n",
            "53/53 [==============================] - 0s 5ms/step - loss: 0.3686 - accuracy: 0.7030 - val_loss: 0.3686 - val_accuracy: 0.6929\n",
            "Epoch 122/200\n",
            "53/53 [==============================] - 0s 4ms/step - loss: 0.3685 - accuracy: 0.7048 - val_loss: 0.3685 - val_accuracy: 0.6905\n",
            "Epoch 123/200\n",
            "53/53 [==============================] - 0s 5ms/step - loss: 0.3683 - accuracy: 0.7042 - val_loss: 0.3684 - val_accuracy: 0.6905\n",
            "Epoch 124/200\n",
            "53/53 [==============================] - 0s 4ms/step - loss: 0.3683 - accuracy: 0.7042 - val_loss: 0.3682 - val_accuracy: 0.6905\n",
            "Epoch 125/200\n",
            "53/53 [==============================] - 0s 4ms/step - loss: 0.3681 - accuracy: 0.7048 - val_loss: 0.3679 - val_accuracy: 0.6905\n",
            "Epoch 126/200\n",
            "53/53 [==============================] - 0s 5ms/step - loss: 0.3682 - accuracy: 0.7042 - val_loss: 0.3676 - val_accuracy: 0.6929\n",
            "Epoch 127/200\n",
            "53/53 [==============================] - 0s 5ms/step - loss: 0.3681 - accuracy: 0.7042 - val_loss: 0.3676 - val_accuracy: 0.6929\n",
            "Epoch 128/200\n",
            "53/53 [==============================] - 0s 6ms/step - loss: 0.3679 - accuracy: 0.7048 - val_loss: 0.3673 - val_accuracy: 0.6929\n",
            "Epoch 129/200\n",
            "53/53 [==============================] - 0s 5ms/step - loss: 0.3680 - accuracy: 0.7054 - val_loss: 0.3672 - val_accuracy: 0.6929\n",
            "Epoch 130/200\n",
            "53/53 [==============================] - 0s 5ms/step - loss: 0.3679 - accuracy: 0.7042 - val_loss: 0.3671 - val_accuracy: 0.6929\n",
            "Epoch 131/200\n",
            "53/53 [==============================] - 0s 5ms/step - loss: 0.3679 - accuracy: 0.7048 - val_loss: 0.3669 - val_accuracy: 0.6929\n",
            "Epoch 132/200\n",
            "53/53 [==============================] - 0s 6ms/step - loss: 0.3678 - accuracy: 0.7048 - val_loss: 0.3669 - val_accuracy: 0.6929\n",
            "Epoch 133/200\n",
            "53/53 [==============================] - 0s 6ms/step - loss: 0.3679 - accuracy: 0.7030 - val_loss: 0.3671 - val_accuracy: 0.6929\n",
            "Epoch 134/200\n",
            "53/53 [==============================] - 0s 5ms/step - loss: 0.3677 - accuracy: 0.7030 - val_loss: 0.3673 - val_accuracy: 0.6929\n",
            "Epoch 135/200\n",
            "53/53 [==============================] - 0s 6ms/step - loss: 0.3676 - accuracy: 0.7042 - val_loss: 0.3672 - val_accuracy: 0.6929\n",
            "Epoch 136/200\n",
            "53/53 [==============================] - 0s 4ms/step - loss: 0.3677 - accuracy: 0.7054 - val_loss: 0.3672 - val_accuracy: 0.6881\n",
            "Epoch 137/200\n",
            "53/53 [==============================] - 0s 4ms/step - loss: 0.3676 - accuracy: 0.7036 - val_loss: 0.3672 - val_accuracy: 0.6857\n",
            "Epoch 138/200\n",
            "53/53 [==============================] - 0s 4ms/step - loss: 0.3675 - accuracy: 0.7036 - val_loss: 0.3672 - val_accuracy: 0.6833\n",
            "Epoch 139/200\n",
            "53/53 [==============================] - 0s 4ms/step - loss: 0.3675 - accuracy: 0.7030 - val_loss: 0.3671 - val_accuracy: 0.6833\n",
            "Epoch 140/200\n",
            "53/53 [==============================] - 0s 3ms/step - loss: 0.3674 - accuracy: 0.7048 - val_loss: 0.3669 - val_accuracy: 0.6857\n",
            "Epoch 141/200\n",
            "53/53 [==============================] - 0s 3ms/step - loss: 0.3674 - accuracy: 0.7048 - val_loss: 0.3667 - val_accuracy: 0.6881\n",
            "Epoch 142/200\n",
            "53/53 [==============================] - 0s 4ms/step - loss: 0.3672 - accuracy: 0.7036 - val_loss: 0.3666 - val_accuracy: 0.6881\n",
            "Epoch 143/200\n",
            "53/53 [==============================] - 0s 4ms/step - loss: 0.3673 - accuracy: 0.7012 - val_loss: 0.3665 - val_accuracy: 0.6881\n",
            "Epoch 144/200\n",
            "53/53 [==============================] - 0s 4ms/step - loss: 0.3672 - accuracy: 0.7042 - val_loss: 0.3664 - val_accuracy: 0.6905\n",
            "Epoch 145/200\n",
            "53/53 [==============================] - 0s 4ms/step - loss: 0.3671 - accuracy: 0.7024 - val_loss: 0.3662 - val_accuracy: 0.6905\n",
            "Epoch 146/200\n",
            "53/53 [==============================] - 0s 3ms/step - loss: 0.3671 - accuracy: 0.7036 - val_loss: 0.3663 - val_accuracy: 0.6881\n",
            "Epoch 147/200\n",
            "53/53 [==============================] - 0s 4ms/step - loss: 0.3669 - accuracy: 0.7030 - val_loss: 0.3663 - val_accuracy: 0.6857\n",
            "Epoch 148/200\n",
            "53/53 [==============================] - 0s 3ms/step - loss: 0.3669 - accuracy: 0.7000 - val_loss: 0.3662 - val_accuracy: 0.6857\n",
            "Epoch 149/200\n",
            "53/53 [==============================] - 0s 3ms/step - loss: 0.3670 - accuracy: 0.7012 - val_loss: 0.3658 - val_accuracy: 0.6857\n",
            "Epoch 150/200\n",
            "53/53 [==============================] - 0s 3ms/step - loss: 0.3669 - accuracy: 0.7018 - val_loss: 0.3657 - val_accuracy: 0.6905\n",
            "Epoch 151/200\n",
            "53/53 [==============================] - 0s 3ms/step - loss: 0.3669 - accuracy: 0.7036 - val_loss: 0.3656 - val_accuracy: 0.6881\n",
            "Epoch 152/200\n",
            "53/53 [==============================] - 0s 5ms/step - loss: 0.3669 - accuracy: 0.7036 - val_loss: 0.3653 - val_accuracy: 0.6857\n",
            "Epoch 153/200\n",
            "53/53 [==============================] - 0s 3ms/step - loss: 0.3668 - accuracy: 0.7036 - val_loss: 0.3653 - val_accuracy: 0.6905\n",
            "Epoch 154/200\n",
            "53/53 [==============================] - 0s 4ms/step - loss: 0.3667 - accuracy: 0.7036 - val_loss: 0.3655 - val_accuracy: 0.6857\n",
            "Epoch 155/200\n",
            "53/53 [==============================] - 0s 3ms/step - loss: 0.3668 - accuracy: 0.7030 - val_loss: 0.3654 - val_accuracy: 0.6857\n",
            "Epoch 156/200\n",
            "53/53 [==============================] - 0s 4ms/step - loss: 0.3666 - accuracy: 0.7024 - val_loss: 0.3654 - val_accuracy: 0.6857\n",
            "Epoch 157/200\n",
            "53/53 [==============================] - 0s 4ms/step - loss: 0.3666 - accuracy: 0.7429 - val_loss: 0.3655 - val_accuracy: 0.6905\n",
            "Epoch 158/200\n",
            "53/53 [==============================] - 0s 3ms/step - loss: 0.3665 - accuracy: 0.7357 - val_loss: 0.3654 - val_accuracy: 0.6905\n",
            "Epoch 159/200\n",
            "53/53 [==============================] - 0s 3ms/step - loss: 0.3665 - accuracy: 0.7512 - val_loss: 0.3650 - val_accuracy: 0.7952\n",
            "Epoch 160/200\n",
            "53/53 [==============================] - 0s 4ms/step - loss: 0.3664 - accuracy: 0.7964 - val_loss: 0.3651 - val_accuracy: 0.7952\n",
            "Epoch 161/200\n",
            "53/53 [==============================] - 0s 3ms/step - loss: 0.3665 - accuracy: 0.7976 - val_loss: 0.3650 - val_accuracy: 0.7929\n",
            "Epoch 162/200\n",
            "53/53 [==============================] - 0s 4ms/step - loss: 0.3663 - accuracy: 0.7970 - val_loss: 0.3651 - val_accuracy: 0.7929\n",
            "Epoch 163/200\n",
            "53/53 [==============================] - 0s 3ms/step - loss: 0.3663 - accuracy: 0.7952 - val_loss: 0.3648 - val_accuracy: 0.7929\n",
            "Epoch 164/200\n",
            "53/53 [==============================] - 0s 3ms/step - loss: 0.3663 - accuracy: 0.7952 - val_loss: 0.3648 - val_accuracy: 0.7929\n",
            "Epoch 165/200\n",
            "53/53 [==============================] - 0s 3ms/step - loss: 0.3663 - accuracy: 0.7976 - val_loss: 0.3648 - val_accuracy: 0.7929\n",
            "Epoch 166/200\n",
            "53/53 [==============================] - 0s 4ms/step - loss: 0.3661 - accuracy: 0.7976 - val_loss: 0.3649 - val_accuracy: 0.7929\n",
            "Epoch 167/200\n",
            "53/53 [==============================] - 0s 4ms/step - loss: 0.3663 - accuracy: 0.7970 - val_loss: 0.3646 - val_accuracy: 0.7952\n",
            "Epoch 168/200\n",
            "53/53 [==============================] - 0s 3ms/step - loss: 0.3663 - accuracy: 0.7952 - val_loss: 0.3646 - val_accuracy: 0.7952\n",
            "Epoch 169/200\n",
            "53/53 [==============================] - 0s 3ms/step - loss: 0.3661 - accuracy: 0.7982 - val_loss: 0.3644 - val_accuracy: 0.7929\n",
            "Epoch 170/200\n",
            "53/53 [==============================] - 0s 4ms/step - loss: 0.3663 - accuracy: 0.7940 - val_loss: 0.3643 - val_accuracy: 0.7952\n",
            "Epoch 171/200\n",
            "53/53 [==============================] - 0s 3ms/step - loss: 0.3661 - accuracy: 0.7946 - val_loss: 0.3644 - val_accuracy: 0.7929\n",
            "Epoch 172/200\n",
            "53/53 [==============================] - 0s 4ms/step - loss: 0.3660 - accuracy: 0.7988 - val_loss: 0.3642 - val_accuracy: 0.7881\n",
            "Epoch 173/200\n",
            "53/53 [==============================] - 0s 3ms/step - loss: 0.3660 - accuracy: 0.7952 - val_loss: 0.3638 - val_accuracy: 0.7929\n",
            "Epoch 174/200\n",
            "53/53 [==============================] - 0s 3ms/step - loss: 0.3659 - accuracy: 0.7958 - val_loss: 0.3637 - val_accuracy: 0.7929\n",
            "Epoch 175/200\n",
            "53/53 [==============================] - 0s 4ms/step - loss: 0.3660 - accuracy: 0.7946 - val_loss: 0.3635 - val_accuracy: 0.7929\n",
            "Epoch 176/200\n",
            "53/53 [==============================] - 0s 4ms/step - loss: 0.3660 - accuracy: 0.7923 - val_loss: 0.3637 - val_accuracy: 0.7929\n",
            "Epoch 177/200\n",
            "53/53 [==============================] - 0s 4ms/step - loss: 0.3660 - accuracy: 0.7964 - val_loss: 0.3638 - val_accuracy: 0.7929\n",
            "Epoch 178/200\n",
            "53/53 [==============================] - 0s 4ms/step - loss: 0.3659 - accuracy: 0.7929 - val_loss: 0.3636 - val_accuracy: 0.7905\n",
            "Epoch 179/200\n",
            "53/53 [==============================] - 0s 5ms/step - loss: 0.3658 - accuracy: 0.7958 - val_loss: 0.3636 - val_accuracy: 0.7929\n",
            "Epoch 180/200\n",
            "53/53 [==============================] - 0s 4ms/step - loss: 0.3657 - accuracy: 0.7964 - val_loss: 0.3636 - val_accuracy: 0.7929\n",
            "Epoch 181/200\n",
            "53/53 [==============================] - 0s 4ms/step - loss: 0.3657 - accuracy: 0.7958 - val_loss: 0.3637 - val_accuracy: 0.7929\n",
            "Epoch 182/200\n",
            "53/53 [==============================] - 0s 3ms/step - loss: 0.3657 - accuracy: 0.7946 - val_loss: 0.3635 - val_accuracy: 0.7952\n",
            "Epoch 183/200\n",
            "53/53 [==============================] - 0s 4ms/step - loss: 0.3657 - accuracy: 0.7976 - val_loss: 0.3633 - val_accuracy: 0.7952\n",
            "Epoch 184/200\n",
            "53/53 [==============================] - 0s 3ms/step - loss: 0.3656 - accuracy: 0.7982 - val_loss: 0.3630 - val_accuracy: 0.7976\n",
            "Epoch 185/200\n",
            "53/53 [==============================] - 0s 4ms/step - loss: 0.3655 - accuracy: 0.7982 - val_loss: 0.3631 - val_accuracy: 0.7952\n",
            "Epoch 186/200\n",
            "53/53 [==============================] - 0s 5ms/step - loss: 0.3655 - accuracy: 0.7976 - val_loss: 0.3630 - val_accuracy: 0.7952\n",
            "Epoch 187/200\n",
            "53/53 [==============================] - 0s 5ms/step - loss: 0.3655 - accuracy: 0.7970 - val_loss: 0.3631 - val_accuracy: 0.7976\n",
            "Epoch 188/200\n",
            "53/53 [==============================] - 0s 5ms/step - loss: 0.3655 - accuracy: 0.7976 - val_loss: 0.3632 - val_accuracy: 0.7976\n",
            "Epoch 189/200\n",
            "53/53 [==============================] - 0s 5ms/step - loss: 0.3654 - accuracy: 0.7976 - val_loss: 0.3633 - val_accuracy: 0.7952\n",
            "Epoch 190/200\n",
            "53/53 [==============================] - 0s 5ms/step - loss: 0.3654 - accuracy: 0.7988 - val_loss: 0.3633 - val_accuracy: 0.7952\n",
            "Epoch 191/200\n",
            "53/53 [==============================] - 0s 6ms/step - loss: 0.3654 - accuracy: 0.7988 - val_loss: 0.3633 - val_accuracy: 0.7929\n",
            "Epoch 192/200\n",
            "53/53 [==============================] - 0s 5ms/step - loss: 0.3653 - accuracy: 0.7994 - val_loss: 0.3631 - val_accuracy: 0.7976\n",
            "Epoch 193/200\n",
            "53/53 [==============================] - 0s 5ms/step - loss: 0.3653 - accuracy: 0.7970 - val_loss: 0.3632 - val_accuracy: 0.7929\n",
            "Epoch 194/200\n",
            "53/53 [==============================] - 0s 5ms/step - loss: 0.3654 - accuracy: 0.8012 - val_loss: 0.3631 - val_accuracy: 0.7952\n",
            "Epoch 195/200\n",
            "53/53 [==============================] - 0s 5ms/step - loss: 0.3653 - accuracy: 0.8000 - val_loss: 0.3628 - val_accuracy: 0.7976\n",
            "Epoch 196/200\n",
            "53/53 [==============================] - 0s 7ms/step - loss: 0.3652 - accuracy: 0.8000 - val_loss: 0.3629 - val_accuracy: 0.7929\n",
            "Epoch 197/200\n",
            "53/53 [==============================] - 0s 6ms/step - loss: 0.3653 - accuracy: 0.7988 - val_loss: 0.3624 - val_accuracy: 0.7952\n",
            "Epoch 198/200\n",
            "53/53 [==============================] - 0s 5ms/step - loss: 0.3652 - accuracy: 0.7994 - val_loss: 0.3623 - val_accuracy: 0.7952\n",
            "Epoch 199/200\n",
            "53/53 [==============================] - 0s 5ms/step - loss: 0.3653 - accuracy: 0.8006 - val_loss: 0.3622 - val_accuracy: 0.7976\n",
            "Epoch 200/200\n",
            "53/53 [==============================] - 0s 5ms/step - loss: 0.3652 - accuracy: 0.8030 - val_loss: 0.3623 - val_accuracy: 0.7952\n"
          ]
        }
      ]
    },
    {
      "cell_type": "code",
      "source": [
        "# # Tiempo de computo\n",
        "t1 = process_time()\n",
        "tc = t1-t0\n",
        "\n",
        "# # Mostrar tiempo de cómputo del entrenamiento del modelo de RNA\n",
        "print('El tiempo de cómputo con RNA fue: %.2f segundos' % tc)"
      ],
      "metadata": {
        "id": "ns4XH0KkryiK",
        "colab": {
          "base_uri": "https://localhost:8080/"
        },
        "outputId": "1b378e95-2510-4c3d-94e9-05bae392bc75"
      },
      "id": "ns4XH0KkryiK",
      "execution_count": null,
      "outputs": [
        {
          "output_type": "stream",
          "name": "stdout",
          "text": [
            "El tiempo de cómputo con RNA fue: 47.93 segundos\n"
          ]
        }
      ]
    },
    {
      "cell_type": "markdown",
      "source": [
        "### Predicción"
      ],
      "metadata": {
        "id": "kt-1kPj1t2y_"
      },
      "id": "kt-1kPj1t2y_"
    },
    {
      "cell_type": "code",
      "source": [
        "X_pred = modelRNA.predict(X_test, batch_size = 32, verbose=1)\n",
        "y_pred = np.argmax(X_pred, axis=1)\n",
        "print(y_pred.shape)"
      ],
      "metadata": {
        "id": "s2V_K7x8t4LQ",
        "colab": {
          "base_uri": "https://localhost:8080/"
        },
        "outputId": "f98a2f08-ceb0-45e3-c2ae-b425f78c8573"
      },
      "id": "s2V_K7x8t4LQ",
      "execution_count": null,
      "outputs": [
        {
          "output_type": "stream",
          "name": "stdout",
          "text": [
            "29/29 [==============================] - 0s 3ms/step\n",
            "(900,)\n"
          ]
        }
      ]
    },
    {
      "cell_type": "markdown",
      "source": [
        "## Evaluación del modelo entrenado"
      ],
      "metadata": {
        "id": "0Z0yUZ0dqgIz"
      },
      "id": "0Z0yUZ0dqgIz"
    },
    {
      "cell_type": "markdown",
      "source": [
        "### Gráficas de pérdida de entrenamiento y validación"
      ],
      "metadata": {
        "id": "NFH5y6qOqio9"
      },
      "id": "NFH5y6qOqio9"
    },
    {
      "cell_type": "code",
      "execution_count": null,
      "id": "internal-hudson",
      "metadata": {
        "id": "internal-hudson",
        "colab": {
          "base_uri": "https://localhost:8080/",
          "height": 340
        },
        "outputId": "45522b82-5d9f-4491-d8b2-70784ec8b946"
      },
      "outputs": [
        {
          "output_type": "display_data",
          "data": {
            "text/plain": [
              "<Figure size 1600x500 with 2 Axes>"
            ],
            "image/png": "[encoded data removed]"
          },
          "metadata": {}
        }
      ],
      "source": [
        "# Gráficas de pérdidas en entrenamiento y validación\n",
        "loss = training_log.history['loss']\n",
        "val_loss = training_log.history['val_loss']\n",
        "epochs = range(1, len(val_loss) + 1)\n",
        "\n",
        "# Gráfica comparativa: pérdida en entrenamiento\n",
        "plt.figure(figsize=(16, 5))\n",
        "plt.subplot(1, 2, 1)\n",
        "plt.plot(epochs, loss, 'g*--', label=\"Perceptrón 5 capas\")\n",
        "plt.title('Pérdida en el entrenamiento arquitectura ARN')\n",
        "plt.xlabel('Épocas')\n",
        "plt.ylabel('Pérdida')\n",
        "plt.legend(loc=\"upper center\", fontsize=\"small\")\n",
        "plt.legend()\n",
        "plt.grid(True)\n",
        "\n",
        "# Gráfica comparativa: pérdida en validación\n",
        "plt.subplot(1, 2, 2)\n",
        "plt.plot(epochs, val_loss, 'b*--', label=\"Perceptrón 5 capas\")\n",
        "plt.title('Pérdida en la validación arquitectura ARN')\n",
        "plt.xlabel('Épocas')\n",
        "plt.ylabel('Pérdida')\n",
        "plt.legend(loc=\"upper center\", fontsize=\"small\")\n",
        "plt.legend()\n",
        "plt.grid(True)\n",
        "plt.show()"
      ]
    },
    {
      "cell_type": "markdown",
      "source": [
        "### Visualizar reporte del entrenamiento de la RNA"
      ],
      "metadata": {
        "id": "o_wQRzRnq3K8"
      },
      "id": "o_wQRzRnq3K8"
    },
    {
      "cell_type": "code",
      "execution_count": null,
      "id": "reliable-resort",
      "metadata": {
        "id": "reliable-resort",
        "colab": {
          "base_uri": "https://localhost:8080/"
        },
        "outputId": "7a5dae3e-3687-44b4-ee01-bc7069256883"
      },
      "outputs": [
        {
          "output_type": "stream",
          "name": "stdout",
          "text": [
            "\n",
            "               precision    recall  f1-score   support\n",
            "\n",
            "           0      0.706     0.811     0.755       175\n",
            "           1      0.750     0.488     0.591       246\n",
            "           2      0.844     0.950     0.894       479\n",
            "\n",
            "    accuracy                          0.797       900\n",
            "   macro avg      0.767     0.750     0.747       900\n",
            "weighted avg      0.792     0.797     0.784       900\n",
            "\n"
          ]
        }
      ],
      "source": [
        "# Métricas de desempeño\n",
        "# Mostrar la precisión, recall, F1-score\n",
        "print(\"\\n\", classification_report(y_test, y_pred, digits=3))"
      ]
    },
    {
      "cell_type": "markdown",
      "source": [
        "### Visualizar matriz de confusión"
      ],
      "metadata": {
        "id": "7MPa73-zrCAr"
      },
      "id": "7MPa73-zrCAr"
    },
    {
      "cell_type": "code",
      "execution_count": null,
      "id": "opened-quantity",
      "metadata": {
        "id": "opened-quantity",
        "colab": {
          "base_uri": "https://localhost:8080/",
          "height": 526
        },
        "outputId": "66b902f5-b1f8-4373-bd98-33ed52132892"
      },
      "outputs": [
        {
          "output_type": "display_data",
          "data": {
            "text/plain": [
              "<Figure size 640x480 with 1 Axes>"
            ],
            "image/png": "[encoded data removed]"
          },
          "metadata": {}
        }
      ],
      "source": [
        "# Matriz de confusión\n",
        "# cm = metrics.confusion_matrix(Y_test.argmax(axis=1),\n",
        "#                               Y_pred.argmax(axis=1))\n",
        "cm = confusion_matrix(y_test, y_pred)\n",
        "plt.imshow(cm, interpolation='nearest', cmap=plt.cm.Wistia)\n",
        "classNames = ['RCV bajo','RCV latente', 'RCV alto']\n",
        "plt.title('Matriz de confusión modelo predictivo RCV')\n",
        "plt.ylabel('True label')\n",
        "plt.xlabel('Predicted label')\n",
        "tick_marks = np.arange(len(classNames))\n",
        "plt.xticks(tick_marks, classNames, rotation=45)\n",
        "plt.yticks(tick_marks, classNames)\n",
        "for i in range(3):\n",
        "    for j in range(3):\n",
        "        plt.text(j,i, str(cm[i][j]))"
      ]
    },
    {
      "cell_type": "markdown",
      "source": [
        "### Curva ROC\n"
      ],
      "metadata": {
        "id": "fI_T7Ud8Myl6"
      },
      "id": "fI_T7Ud8Myl6"
    },
    {
      "cell_type": "code",
      "source": [
        "# Curva ROC\n",
        "# #https://stackabuse.com/understanding-roc-curves-with-python/\n",
        "Y_pred = np_utils.to_categorical(y_pred)\n",
        "auc = roc_auc_score(Y_test, Y_pred)\n",
        "fpr, tpr, threshold = roc_curve(Y_test[:,0], Y_pred[:,0])\n",
        "font = {'family': 'serif',\n",
        "    'color':  'darkred',\n",
        "    'weight': 'normal',\n",
        "    'size': 16,\n",
        "    }\n",
        "plt.plot(fpr, tpr, color='green', label='ROC RCV bajo')\n",
        "plt.plot([0, 1], [0, 1], color='black', linestyle='--')\n",
        "plt.xlabel('Tasa de Falsos Positivos')\n",
        "plt.ylabel('Tasa de Verdaderos Postivos')\n",
        "plt.title('Curva ROC RNA')\n",
        "fpr, tpr, threshold = roc_curve(Y_test[:,1], Y_pred[:,1])\n",
        "plt.plot(fpr, tpr, color='darkblue', label='ROC RCV latente')\n",
        "fpr, tpr, threshold = roc_curve(Y_test[:,2], Y_pred[:,2])\n",
        "plt.plot(fpr, tpr, color='orange', label='ROC RCV alto')\n",
        "plt.text(0.7, 0.55, 'AUC: %.2f' % auc, fontdict=font)\n",
        "plt.legend()\n",
        "plt.show()"
      ],
      "metadata": {
        "id": "HysJdDp7M01I",
        "colab": {
          "base_uri": "https://localhost:8080/",
          "height": 472
        },
        "outputId": "dc807530-b73c-4047-ebb2-e3af4e3f9391"
      },
      "id": "HysJdDp7M01I",
      "execution_count": null,
      "outputs": [
        {
          "output_type": "display_data",
          "data": {
            "text/plain": [
              "<Figure size 640x480 with 1 Axes>"
            ],
            "image/png": "[encoded data removed]"
          },
          "metadata": {}
        }
      ]
    },
    {
      "cell_type": "code",
      "execution_count": null,
      "id": "substantial-killer",
      "metadata": {
        "id": "substantial-killer"
      },
      "outputs": [],
      "source": [
        "#Guardar modelo\n",
        "# import pickle\n",
        "# pickle.dump(modelRNA, open('RNA_RCV_01.pkl', 'wb'))\n",
        "\n",
        "# #Cargar modelo almacenado\n",
        "# model = pickle.load(open('RNA_RCV_01.pkl', 'rb'))\n",
        "# result_val = model.score(X_valid, y_valid)\n",
        "# result_test = model.score(X_test, y_test)\n",
        "# print(result_val)\n",
        "# print(result_test)"
      ]
    },
    {
      "cell_type": "markdown",
      "id": "acceptable-knowing",
      "metadata": {
        "id": "acceptable-knowing"
      },
      "source": [
        "## Conclusiones\n"
      ]
    }
  ],
  "metadata": {
    "kernelspec": {
      "display_name": "Python (bertgpu)",
      "language": "python",
      "name": "bertgpu"
    },
    "language_info": {
      "codemirror_mode": {
        "name": "ipython",
        "version": 3
      },
      "file_extension": ".py",
      "mimetype": "text/x-python",
      "name": "python",
      "nbconvert_exporter": "python",
      "pygments_lexer": "ipython3",
      "version": "3.7.10"
    },
    "colab": {
      "provenance": [],
      "include_colab_link": true
    }
  },
  "nbformat": 4,
  "nbformat_minor": 5
}